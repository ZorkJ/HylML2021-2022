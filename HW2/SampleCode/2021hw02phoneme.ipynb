{
 "cells": [
  {
   "cell_type": "code",
   "execution_count": 1,
   "id": "0fd24061",
   "metadata": {
    "execution": {
     "iopub.execute_input": "2022-08-10T04:58:14.445754Z",
     "iopub.status.busy": "2022-08-10T04:58:14.444964Z",
     "iopub.status.idle": "2022-08-10T04:58:16.267334Z",
     "shell.execute_reply": "2022-08-10T04:58:16.266309Z"
    },
    "papermill": {
     "duration": 1.834403,
     "end_time": "2022-08-10T04:58:16.270694",
     "exception": false,
     "start_time": "2022-08-10T04:58:14.436291",
     "status": "completed"
    },
    "tags": []
   },
   "outputs": [],
   "source": [
    "# import numpy as np\n",
    "\n",
    "# print('Loading data ...')\n",
    "\n",
    "# data_root='./timit_11/'\n",
    "# train = np.load(data_root + 'train_11.npy')\n",
    "# train_label = np.load(data_root + 'train_label_11.npy')\n",
    "# test = np.load(data_root + 'test_11.npy')\n",
    "\n",
    "# print('Size of training data: {}'.format(train.shape))\n",
    "# print('Size of testing data: {}'.format(test.shape))\n",
    "\n",
    "# PyTorch\n",
    "import torch\n",
    "import torch.nn as nn\n",
    "from torch.utils.data import Dataset, DataLoader\n",
    "\n",
    "# For data preprocess\n",
    "import numpy as np\n",
    "import csv\n",
    "import os\n",
    "\n",
    "# For plotting\n",
    "import matplotlib.pyplot as plt\n",
    "from matplotlib.pyplot import figure\n",
    "\n",
    "myseed = 42069  # set a random seed for reproducibility\n",
    "torch.backends.cudnn.deterministic = True\n",
    "torch.backends.cudnn.benchmark = False\n",
    "np.random.seed(myseed)\n",
    "torch.manual_seed(myseed)\n",
    "if torch.cuda.is_available():\n",
    "    torch.cuda.manual_seed_all(myseed)\n",
    "\n",
    "\n"
   ]
  },
  {
   "cell_type": "code",
   "execution_count": 2,
   "id": "adebeb02",
   "metadata": {
    "execution": {
     "iopub.execute_input": "2022-08-10T04:58:16.283296Z",
     "iopub.status.busy": "2022-08-10T04:58:16.282672Z",
     "iopub.status.idle": "2022-08-10T04:58:51.921263Z",
     "shell.execute_reply": "2022-08-10T04:58:51.920306Z"
    },
    "papermill": {
     "duration": 35.651815,
     "end_time": "2022-08-10T04:58:51.928010",
     "exception": false,
     "start_time": "2022-08-10T04:58:16.276195",
     "status": "completed"
    },
    "tags": []
   },
   "outputs": [
    {
     "name": "stdout",
     "output_type": "stream",
     "text": [
      "Loading data ...\n",
      "Size of training data: (1229932, 429)\n",
      "Size of testing data: (451552, 429)\n"
     ]
    },
    {
     "data": {
      "text/plain": [
       "array(['36', '36', '36', ..., '35', '35', '35'], dtype='<U2')"
      ]
     },
     "execution_count": 2,
     "metadata": {},
     "output_type": "execute_result"
    }
   ],
   "source": [
    "print('Loading data ...')\n",
    "\n",
    "train = np.load('../input/ml2021spring-hw2/timit_11/timit_11/train_11.npy')#得到function  obj\n",
    "train_label = np.load('../input/ml2021spring-hw2/timit_11/timit_11/train_label_11.npy')#得到ndarray\n",
    "test = np.load('../input/ml2021spring-hw2/timit_11/timit_11/test_11.npy')#得到function  obj\n",
    "\n",
    "print('Size of training data: {}'.format(train.shape))\n",
    "print('Size of testing data: {}'.format(test.shape))\n",
    "\n",
    "train_label"
   ]
  },
  {
   "cell_type": "markdown",
   "id": "80ad5a18",
   "metadata": {
    "papermill": {
     "duration": 0.003284,
     "end_time": "2022-08-10T04:58:51.935202",
     "exception": false,
     "start_time": "2022-08-10T04:58:51.931918",
     "status": "completed"
    },
    "tags": []
   },
   "source": [
    "![](http://)"
   ]
  },
  {
   "cell_type": "code",
   "execution_count": 3,
   "id": "dc21d924",
   "metadata": {
    "execution": {
     "iopub.execute_input": "2022-08-10T04:58:51.946156Z",
     "iopub.status.busy": "2022-08-10T04:58:51.944685Z",
     "iopub.status.idle": "2022-08-10T04:58:51.952186Z",
     "shell.execute_reply": "2022-08-10T04:58:51.951296Z"
    },
    "papermill": {
     "duration": 0.015626,
     "end_time": "2022-08-10T04:58:51.954179",
     "exception": false,
     "start_time": "2022-08-10T04:58:51.938553",
     "status": "completed"
    },
    "tags": []
   },
   "outputs": [],
   "source": [
    "import torch\n",
    "from torch.utils.data import Dataset\n",
    "\n",
    "class TIMITDataset(Dataset):\n",
    "    def __init__(self, X, y=None):\n",
    "        self.data = torch.from_numpy(X).float()\n",
    "        if y is not None:\n",
    "            y = y.astype(np.int)\n",
    "            self.label = torch.LongTensor(y)\n",
    "        else:\n",
    "            self.label = None\n",
    "\n",
    "    def __getitem__(self, idx):\n",
    "        if self.label is not None:\n",
    "            return self.data[idx], self.label[idx]\n",
    "        else:\n",
    "            return self.data[idx]\n",
    "\n",
    "    def __len__(self):\n",
    "        return len(self.data)\n"
   ]
  },
  {
   "cell_type": "code",
   "execution_count": 4,
   "id": "7ede1a57",
   "metadata": {
    "execution": {
     "iopub.execute_input": "2022-08-10T04:58:51.961991Z",
     "iopub.status.busy": "2022-08-10T04:58:51.961723Z",
     "iopub.status.idle": "2022-08-10T04:58:51.967608Z",
     "shell.execute_reply": "2022-08-10T04:58:51.966687Z"
    },
    "papermill": {
     "duration": 0.012558,
     "end_time": "2022-08-10T04:58:51.970194",
     "exception": false,
     "start_time": "2022-08-10T04:58:51.957636",
     "status": "completed"
    },
    "tags": []
   },
   "outputs": [
    {
     "name": "stdout",
     "output_type": "stream",
     "text": [
      "Size of training set: (983945, 429)\n",
      "Size of validation set: (245987, 429)\n"
     ]
    }
   ],
   "source": [
    "VAL_RATIO = 0.2\n",
    "\n",
    "percent = int(train.shape[0] * (1 - VAL_RATIO))\n",
    "train_x, train_y, val_x, val_y = train[:percent], train_label[:percent], train[percent:], train_label[percent:]\n",
    "print('Size of training set: {}'.format(train_x.shape))\n",
    "print('Size of validation set: {}'.format(val_x.shape))"
   ]
  },
  {
   "cell_type": "code",
   "execution_count": 5,
   "id": "e9ad0e2d",
   "metadata": {
    "execution": {
     "iopub.execute_input": "2022-08-10T04:58:51.979146Z",
     "iopub.status.busy": "2022-08-10T04:58:51.978883Z",
     "iopub.status.idle": "2022-08-10T04:58:54.175153Z",
     "shell.execute_reply": "2022-08-10T04:58:54.174146Z"
    },
    "papermill": {
     "duration": 2.20318,
     "end_time": "2022-08-10T04:58:54.177575",
     "exception": false,
     "start_time": "2022-08-10T04:58:51.974395",
     "status": "completed"
    },
    "tags": []
   },
   "outputs": [
    {
     "name": "stderr",
     "output_type": "stream",
     "text": [
      "/opt/conda/lib/python3.7/site-packages/ipykernel_launcher.py:8: DeprecationWarning: `np.int` is a deprecated alias for the builtin `int`. To silence this warning, use `int` by itself. Doing this will not modify any behavior and is safe. When replacing `np.int`, you may wish to use e.g. `np.int64` or `np.int32` to specify the precision. If you wish to review your current use, check the release note link for additional information.\n",
      "Deprecated in NumPy 1.20; for more details and guidance: https://numpy.org/devdocs/release/1.20.0-notes.html#deprecations\n",
      "  \n"
     ]
    }
   ],
   "source": [
    "BATCH_SIZE = 64\n",
    "\n",
    "from torch.utils.data import DataLoader\n",
    "\n",
    "train_set = TIMITDataset(train_x, train_y)\n",
    "val_set = TIMITDataset(val_x, val_y)\n",
    "train_loader = DataLoader(train_set, batch_size=BATCH_SIZE, shuffle=True) #only shuffle the training data\n",
    "val_loader = DataLoader(val_set, batch_size=BATCH_SIZE, shuffle=False)"
   ]
  },
  {
   "cell_type": "code",
   "execution_count": 6,
   "id": "b5ce7736",
   "metadata": {
    "execution": {
     "iopub.execute_input": "2022-08-10T04:58:54.186351Z",
     "iopub.status.busy": "2022-08-10T04:58:54.186049Z",
     "iopub.status.idle": "2022-08-10T04:58:54.295842Z",
     "shell.execute_reply": "2022-08-10T04:58:54.294787Z"
    },
    "papermill": {
     "duration": 0.117275,
     "end_time": "2022-08-10T04:58:54.298638",
     "exception": false,
     "start_time": "2022-08-10T04:58:54.181363",
     "status": "completed"
    },
    "tags": []
   },
   "outputs": [
    {
     "data": {
      "text/plain": [
       "9"
      ]
     },
     "execution_count": 6,
     "metadata": {},
     "output_type": "execute_result"
    }
   ],
   "source": [
    "import gc\n",
    "\n",
    "del train, train_label, train_x, train_y, val_x, val_y\n",
    "gc.collect()"
   ]
  },
  {
   "cell_type": "code",
   "execution_count": 7,
   "id": "b3518810",
   "metadata": {
    "execution": {
     "iopub.execute_input": "2022-08-10T04:58:54.307848Z",
     "iopub.status.busy": "2022-08-10T04:58:54.307486Z",
     "iopub.status.idle": "2022-08-10T04:58:54.317191Z",
     "shell.execute_reply": "2022-08-10T04:58:54.316151Z"
    },
    "papermill": {
     "duration": 0.01666,
     "end_time": "2022-08-10T04:58:54.319174",
     "exception": false,
     "start_time": "2022-08-10T04:58:54.302514",
     "status": "completed"
    },
    "tags": []
   },
   "outputs": [],
   "source": [
    "import torch\n",
    "import torch.nn as nn\n",
    "\n",
    "class Classifier(nn.Module):\n",
    "    def __init__(self):\n",
    "        super(Classifier, self).__init__()\n",
    "        self.layer0 = nn.Linear(429,2048)\n",
    "        self.layer1 = nn.Linear(2048, 1024)\n",
    "        self.layer2 = nn.Linear(1024, 512)\n",
    "        self.layer3 = nn.Linear(512, 128)\n",
    "        self.out = nn.Linear(128, 39) \n",
    "\n",
    "        self.act_fn = nn.ReLU()\n",
    "        self.dropout = nn.Dropout(0.25)\n",
    "        self.batchnorm0 = nn.BatchNorm1d(2048)\n",
    "        self.batchnorm1 = nn.BatchNorm1d(1024)\n",
    "        self.batchnorm2 = nn.BatchNorm1d(512)\n",
    "        self.batchnorm3 = nn.BatchNorm1d(128)\n",
    "\n",
    "\n",
    "    def forward(self, x):\n",
    "        x = self.layer0(x)\n",
    "        x = self.batchnorm0(x)\n",
    "        x = self.act_fn(x)\n",
    "        x = self.dropout(x)\n",
    "        x = self.layer1(x)\n",
    "        x = self.batchnorm1(x)\n",
    "        x = self.act_fn(x)\n",
    "        x = self.dropout(x)\n",
    "\n",
    "        x = self.layer2(x)\n",
    "        x = self.batchnorm2(x)\n",
    "        x = self.act_fn(x)\n",
    "        x = self.dropout(x)\n",
    "\n",
    "        x = self.layer3(x)\n",
    "        x = self.batchnorm3(x)\n",
    "        x = self.act_fn(x)\n",
    "\n",
    "        x = self.out(x)\n",
    "        \n",
    "        return x"
   ]
  },
  {
   "cell_type": "code",
   "execution_count": 8,
   "id": "032b297b",
   "metadata": {
    "execution": {
     "iopub.execute_input": "2022-08-10T04:58:54.328054Z",
     "iopub.status.busy": "2022-08-10T04:58:54.327401Z",
     "iopub.status.idle": "2022-08-10T04:58:54.332303Z",
     "shell.execute_reply": "2022-08-10T04:58:54.331437Z"
    },
    "papermill": {
     "duration": 0.011358,
     "end_time": "2022-08-10T04:58:54.334306",
     "exception": false,
     "start_time": "2022-08-10T04:58:54.322948",
     "status": "completed"
    },
    "tags": []
   },
   "outputs": [],
   "source": [
    "#check device\n",
    "def get_device():\n",
    "  return 'cuda' if torch.cuda.is_available() else 'cpu'"
   ]
  },
  {
   "cell_type": "code",
   "execution_count": 9,
   "id": "bfb47b2d",
   "metadata": {
    "execution": {
     "iopub.execute_input": "2022-08-10T04:58:54.343215Z",
     "iopub.status.busy": "2022-08-10T04:58:54.342491Z",
     "iopub.status.idle": "2022-08-10T04:58:54.348291Z",
     "shell.execute_reply": "2022-08-10T04:58:54.347442Z"
    },
    "papermill": {
     "duration": 0.012216,
     "end_time": "2022-08-10T04:58:54.350250",
     "exception": false,
     "start_time": "2022-08-10T04:58:54.338034",
     "status": "completed"
    },
    "tags": []
   },
   "outputs": [],
   "source": [
    "# fix random seed\n",
    "def same_seeds(seed):\n",
    "    torch.manual_seed(seed)\n",
    "    if torch.cuda.is_available():\n",
    "        torch.cuda.manual_seed(seed)\n",
    "        torch.cuda.manual_seed_all(seed)  \n",
    "    np.random.seed(seed)  \n",
    "    torch.backends.cudnn.benchmark = False\n",
    "    torch.backends.cudnn.deterministic = True"
   ]
  },
  {
   "cell_type": "markdown",
   "id": "1edfd563",
   "metadata": {
    "papermill": {
     "duration": 0.003668,
     "end_time": "2022-08-10T04:58:54.357742",
     "exception": false,
     "start_time": "2022-08-10T04:58:54.354074",
     "status": "completed"
    },
    "tags": []
   },
   "source": [
    "# 模型改进\n",
    "1\n",
    "- 使用dropout 过后 acc提升了3%，并且模型再缓慢提升\n",
    "- val_acc 和 train_acc 之间的差距变小，初步判定samplecode中出现了overfitting\n",
    "\n",
    "\n",
    "这次尝试把epoch增加一倍,测试证明增加一倍epoch"
   ]
  },
  {
   "cell_type": "code",
   "execution_count": 10,
   "id": "b667206e",
   "metadata": {
    "execution": {
     "iopub.execute_input": "2022-08-10T04:58:54.366664Z",
     "iopub.status.busy": "2022-08-10T04:58:54.366128Z",
     "iopub.status.idle": "2022-08-10T04:58:57.347032Z",
     "shell.execute_reply": "2022-08-10T04:58:57.346002Z"
    },
    "papermill": {
     "duration": 2.987831,
     "end_time": "2022-08-10T04:58:57.349405",
     "exception": false,
     "start_time": "2022-08-10T04:58:54.361574",
     "status": "completed"
    },
    "tags": []
   },
   "outputs": [
    {
     "name": "stdout",
     "output_type": "stream",
     "text": [
      "DEVICE: cuda\n"
     ]
    }
   ],
   "source": [
    "# fix random seed for reproducibility\n",
    "same_seeds(0)\n",
    "\n",
    "# get device \n",
    "device = get_device()\n",
    "print(f'DEVICE: {device}')\n",
    "\n",
    "# training parameters\n",
    "num_epoch = 40               # number of training epoch\n",
    "learning_rate = 0.0001       # learning rate\n",
    "\n",
    "# the path where checkpoint saved\n",
    "model_path = './model.ckpt'\n",
    "\n",
    "# create model, define a loss function, and optimizer\n",
    "model = Classifier().to(device)\n",
    "criterion = nn.CrossEntropyLoss() \n",
    "optimizer = torch.optim.NAdam(model.parameters(),lr=learning_rate)"
   ]
  },
  {
   "cell_type": "code",
   "execution_count": 11,
   "id": "57e9f031",
   "metadata": {
    "execution": {
     "iopub.execute_input": "2022-08-10T04:58:57.359416Z",
     "iopub.status.busy": "2022-08-10T04:58:57.359107Z",
     "iopub.status.idle": "2022-08-10T05:39:12.987117Z",
     "shell.execute_reply": "2022-08-10T05:39:12.982975Z"
    },
    "papermill": {
     "duration": 2415.639959,
     "end_time": "2022-08-10T05:39:12.993705",
     "exception": false,
     "start_time": "2022-08-10T04:58:57.353746",
     "status": "completed"
    },
    "tags": []
   },
   "outputs": [
    {
     "name": "stdout",
     "output_type": "stream",
     "text": [
      "[001/040] Train Acc: 0.599045 Loss: 1.325565 | Val Acc: 0.691301 loss: 0.972049\n",
      "saving model with acc 0.691\n",
      "[002/040] Train Acc: 0.661242 Loss: 1.065538 | Val Acc: 0.710891 loss: 0.888928\n",
      "saving model with acc 0.711\n",
      "[003/040] Train Acc: 0.682228 Loss: 0.987851 | Val Acc: 0.718123 loss: 0.857789\n",
      "saving model with acc 0.718\n",
      "[004/040] Train Acc: 0.696009 Loss: 0.936547 | Val Acc: 0.728847 loss: 0.823664\n",
      "saving model with acc 0.729\n",
      "[005/040] Train Acc: 0.706368 Loss: 0.899063 | Val Acc: 0.732901 loss: 0.806266\n",
      "saving model with acc 0.733\n",
      "[006/040] Train Acc: 0.715341 Loss: 0.867943 | Val Acc: 0.735823 loss: 0.793402\n",
      "saving model with acc 0.736\n",
      "[007/040] Train Acc: 0.722274 Loss: 0.840737 | Val Acc: 0.740742 loss: 0.783662\n",
      "saving model with acc 0.741\n",
      "[008/040] Train Acc: 0.728798 Loss: 0.817564 | Val Acc: 0.741856 loss: 0.775723\n",
      "saving model with acc 0.742\n",
      "[009/040] Train Acc: 0.734825 Loss: 0.797182 | Val Acc: 0.744202 loss: 0.768333\n",
      "saving model with acc 0.744\n",
      "[010/040] Train Acc: 0.739800 Loss: 0.779379 | Val Acc: 0.743832 loss: 0.772512\n",
      "[011/040] Train Acc: 0.745510 Loss: 0.760818 | Val Acc: 0.746832 loss: 0.760712\n",
      "saving model with acc 0.747\n",
      "[012/040] Train Acc: 0.749046 Loss: 0.746305 | Val Acc: 0.746552 loss: 0.762844\n",
      "[013/040] Train Acc: 0.753032 Loss: 0.732732 | Val Acc: 0.747251 loss: 0.760484\n",
      "saving model with acc 0.747\n",
      "[014/040] Train Acc: 0.757494 Loss: 0.717469 | Val Acc: 0.749568 loss: 0.757961\n",
      "saving model with acc 0.750\n",
      "[015/040] Train Acc: 0.761021 Loss: 0.705481 | Val Acc: 0.748194 loss: 0.761241\n",
      "[016/040] Train Acc: 0.764190 Loss: 0.695187 | Val Acc: 0.746296 loss: 0.762888\n",
      "[017/040] Train Acc: 0.767590 Loss: 0.683766 | Val Acc: 0.748633 loss: 0.763880\n",
      "[018/040] Train Acc: 0.770636 Loss: 0.673461 | Val Acc: 0.748731 loss: 0.764900\n",
      "[019/040] Train Acc: 0.773444 Loss: 0.662996 | Val Acc: 0.749064 loss: 0.763473\n",
      "[020/040] Train Acc: 0.776772 Loss: 0.654068 | Val Acc: 0.750466 loss: 0.764318\n",
      "saving model with acc 0.750\n",
      "[021/040] Train Acc: 0.779131 Loss: 0.644940 | Val Acc: 0.750759 loss: 0.760695\n",
      "saving model with acc 0.751\n",
      "[022/040] Train Acc: 0.780873 Loss: 0.638277 | Val Acc: 0.751564 loss: 0.758964\n",
      "saving model with acc 0.752\n",
      "[023/040] Train Acc: 0.783131 Loss: 0.630025 | Val Acc: 0.749251 loss: 0.767418\n",
      "[024/040] Train Acc: 0.785721 Loss: 0.622371 | Val Acc: 0.749995 loss: 0.768611\n",
      "[025/040] Train Acc: 0.787740 Loss: 0.616387 | Val Acc: 0.750162 loss: 0.771745\n",
      "[026/040] Train Acc: 0.789116 Loss: 0.610720 | Val Acc: 0.750109 loss: 0.771150\n",
      "[027/040] Train Acc: 0.791818 Loss: 0.603356 | Val Acc: 0.748792 loss: 0.776395\n",
      "[028/040] Train Acc: 0.793114 Loss: 0.597730 | Val Acc: 0.750487 loss: 0.769611\n",
      "[029/040] Train Acc: 0.795466 Loss: 0.591211 | Val Acc: 0.749617 loss: 0.776066\n",
      "[030/040] Train Acc: 0.796758 Loss: 0.586774 | Val Acc: 0.750190 loss: 0.775792\n",
      "[031/040] Train Acc: 0.798193 Loss: 0.581000 | Val Acc: 0.749536 loss: 0.781303\n",
      "[032/040] Train Acc: 0.800120 Loss: 0.576461 | Val Acc: 0.748690 loss: 0.779431\n",
      "[033/040] Train Acc: 0.801032 Loss: 0.572087 | Val Acc: 0.750849 loss: 0.780835\n",
      "[034/040] Train Acc: 0.803115 Loss: 0.567095 | Val Acc: 0.749625 loss: 0.782290\n",
      "[035/040] Train Acc: 0.804058 Loss: 0.563637 | Val Acc: 0.750149 loss: 0.782360\n",
      "[036/040] Train Acc: 0.805256 Loss: 0.559442 | Val Acc: 0.750137 loss: 0.786608\n",
      "[037/040] Train Acc: 0.806650 Loss: 0.555395 | Val Acc: 0.747877 loss: 0.790403\n",
      "[038/040] Train Acc: 0.808003 Loss: 0.551242 | Val Acc: 0.748922 loss: 0.790030\n",
      "[039/040] Train Acc: 0.808950 Loss: 0.547279 | Val Acc: 0.749942 loss: 0.789845\n",
      "[040/040] Train Acc: 0.809309 Loss: 0.545315 | Val Acc: 0.749210 loss: 0.790014\n"
     ]
    }
   ],
   "source": [
    "# start training\n",
    "\n",
    "best_acc = 0.0\n",
    "for epoch in range(num_epoch):\n",
    "    train_acc = 0.0\n",
    "    train_loss = 0.0\n",
    "    val_acc = 0.0\n",
    "    val_loss = 0.0\n",
    "\n",
    "    # training\n",
    "    model.train() # set the model to training mode\n",
    "    for i, data in enumerate(train_loader):\n",
    "        inputs, labels = data\n",
    "        inputs, labels = inputs.to(device), labels.to(device)\n",
    "        optimizer.zero_grad() \n",
    "        outputs = model(inputs) \n",
    "        batch_loss = criterion(outputs, labels)\n",
    "        _, train_pred = torch.max(outputs, 1) # get the index of the class with the highest probability\n",
    "        batch_loss.backward() \n",
    "        optimizer.step() \n",
    "\n",
    "        train_acc += (train_pred.cpu() == labels.cpu()).sum().item()\n",
    "        train_loss += batch_loss.item()\n",
    "\n",
    "    # validation\n",
    "    if len(val_set) > 0:\n",
    "        model.eval() # set the model to evaluation mode\n",
    "        with torch.no_grad():\n",
    "            for i, data in enumerate(val_loader):\n",
    "                inputs, labels = data\n",
    "                inputs, labels = inputs.to(device), labels.to(device)\n",
    "                outputs = model(inputs)\n",
    "                batch_loss = criterion(outputs, labels) \n",
    "                _, val_pred = torch.max(outputs, 1) \n",
    "            \n",
    "                val_acc += (val_pred.cpu() == labels.cpu()).sum().item() # get the index of the class with the highest probability\n",
    "                val_loss += batch_loss.item()\n",
    "\n",
    "            print('[{:03d}/{:03d}] Train Acc: {:3.6f} Loss: {:3.6f} | Val Acc: {:3.6f} loss: {:3.6f}'.format(\n",
    "                epoch + 1, num_epoch, train_acc/len(train_set), train_loss/len(train_loader), val_acc/len(val_set), val_loss/len(val_loader)\n",
    "            ))\n",
    "\n",
    "            # if the model improves, save a checkpoint at this epoch\n",
    "            if val_acc > best_acc:\n",
    "                best_acc = val_acc\n",
    "                torch.save(model.state_dict(), model_path)\n",
    "                print('saving model with acc {:.3f}'.format(best_acc/len(val_set)))\n",
    "    else:\n",
    "        print('[{:03d}/{:03d}] Train Acc: {:3.6f} Loss: {:3.6f}'.format(\n",
    "            epoch + 1, num_epoch, train_acc/len(train_set), train_loss/len(train_loader)\n",
    "        ))\n",
    "\n",
    "# if not validating, save the last epoch\n",
    "if len(val_set) == 0:\n",
    "    torch.save(model.state_dict(), model_path)\n",
    "    print('saving model at last epoch')\n"
   ]
  },
  {
   "cell_type": "code",
   "execution_count": 12,
   "id": "f71723e3",
   "metadata": {
    "execution": {
     "iopub.execute_input": "2022-08-10T05:39:13.008348Z",
     "iopub.status.busy": "2022-08-10T05:39:13.008046Z",
     "iopub.status.idle": "2022-08-10T05:39:13.708220Z",
     "shell.execute_reply": "2022-08-10T05:39:13.707161Z"
    },
    "papermill": {
     "duration": 0.709918,
     "end_time": "2022-08-10T05:39:13.710892",
     "exception": false,
     "start_time": "2022-08-10T05:39:13.000974",
     "status": "completed"
    },
    "tags": []
   },
   "outputs": [
    {
     "data": {
      "text/plain": [
       "<All keys matched successfully>"
      ]
     },
     "execution_count": 12,
     "metadata": {},
     "output_type": "execute_result"
    }
   ],
   "source": [
    "# create testing dataset\n",
    "test_set = TIMITDataset(test, None)\n",
    "test_loader = DataLoader(test_set, batch_size=BATCH_SIZE, shuffle=False)\n",
    "\n",
    "# create model and load weights from checkpoint\n",
    "model = Classifier().to(device)\n",
    "model.load_state_dict(torch.load(model_path))"
   ]
  },
  {
   "cell_type": "code",
   "execution_count": 13,
   "id": "bf1fda36",
   "metadata": {
    "execution": {
     "iopub.execute_input": "2022-08-10T05:39:13.725594Z",
     "iopub.status.busy": "2022-08-10T05:39:13.725279Z",
     "iopub.status.idle": "2022-08-10T05:39:18.820297Z",
     "shell.execute_reply": "2022-08-10T05:39:18.819354Z"
    },
    "papermill": {
     "duration": 5.105183,
     "end_time": "2022-08-10T05:39:18.822878",
     "exception": false,
     "start_time": "2022-08-10T05:39:13.717695",
     "status": "completed"
    },
    "tags": []
   },
   "outputs": [],
   "source": [
    "predict = []\n",
    "model.eval() # set the model to evaluation mode\n",
    "with torch.no_grad():\n",
    "    for i, data in enumerate(test_loader):\n",
    "        inputs = data\n",
    "        inputs = inputs.to(device)\n",
    "        outputs = model(inputs)\n",
    "        _, test_pred = torch.max(outputs, 1) # get the index of the class with the highest probability\n",
    "\n",
    "        for y in test_pred.cpu().numpy():\n",
    "            predict.append(y)"
   ]
  },
  {
   "cell_type": "code",
   "execution_count": 14,
   "id": "c9f1eeb5",
   "metadata": {
    "execution": {
     "iopub.execute_input": "2022-08-10T05:39:18.836925Z",
     "iopub.status.busy": "2022-08-10T05:39:18.836331Z",
     "iopub.status.idle": "2022-08-10T05:39:19.164837Z",
     "shell.execute_reply": "2022-08-10T05:39:19.163872Z"
    },
    "papermill": {
     "duration": 0.337825,
     "end_time": "2022-08-10T05:39:19.167148",
     "exception": false,
     "start_time": "2022-08-10T05:39:18.829323",
     "status": "completed"
    },
    "tags": []
   },
   "outputs": [],
   "source": [
    "with open('prediction.csv', 'w') as f:\n",
    "    f.write('Id,Class\\n')\n",
    "    for i, y in enumerate(predict):\n",
    "        f.write('{},{}\\n'.format(i, y))"
   ]
  }
 ],
 "metadata": {
  "kernelspec": {
   "display_name": "Python 3",
   "language": "python",
   "name": "python3"
  },
  "language_info": {
   "codemirror_mode": {
    "name": "ipython",
    "version": 3
   },
   "file_extension": ".py",
   "mimetype": "text/x-python",
   "name": "python",
   "nbconvert_exporter": "python",
   "pygments_lexer": "ipython3",
   "version": "3.7.12"
  },
  "papermill": {
   "default_parameters": {},
   "duration": 2473.848734,
   "end_time": "2022-08-10T05:39:20.608442",
   "environment_variables": {},
   "exception": null,
   "input_path": "__notebook__.ipynb",
   "output_path": "__notebook__.ipynb",
   "parameters": {},
   "start_time": "2022-08-10T04:58:06.759708",
   "version": "2.3.4"
  }
 },
 "nbformat": 4,
 "nbformat_minor": 5
}
